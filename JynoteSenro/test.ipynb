{
 "cells": [
  {
   "cell_type": "code",
   "execution_count": 20,
   "metadata": {
    "collapsed": true
   },
   "outputs": [
    {
     "data": {
      "text/plain": "  客户名称     客户类型                 客户证件号        客户手机号 客户配偶名称            客户配偶证件号  \\\n0   张三  COMPANY  61387487384475375487  13709876543     李四  73847875847385734   \n\n       客户配偶手机号  \n0  13812345678  ",
      "text/html": "<div>\n<style scoped>\n    .dataframe tbody tr th:only-of-type {\n        vertical-align: middle;\n    }\n\n    .dataframe tbody tr th {\n        vertical-align: top;\n    }\n\n    .dataframe thead th {\n        text-align: right;\n    }\n</style>\n<table border=\"1\" class=\"dataframe\">\n  <thead>\n    <tr style=\"text-align: right;\">\n      <th></th>\n      <th>客户名称</th>\n      <th>客户类型</th>\n      <th>客户证件号</th>\n      <th>客户手机号</th>\n      <th>客户配偶名称</th>\n      <th>客户配偶证件号</th>\n      <th>客户配偶手机号</th>\n    </tr>\n  </thead>\n  <tbody>\n    <tr>\n      <th>0</th>\n      <td>张三</td>\n      <td>COMPANY</td>\n      <td>61387487384475375487</td>\n      <td>13709876543</td>\n      <td>李四</td>\n      <td>73847875847385734</td>\n      <td>13812345678</td>\n    </tr>\n  </tbody>\n</table>\n</div>"
     },
     "execution_count": 20,
     "metadata": {},
     "output_type": "execute_result"
    }
   ],
   "source": [
    "import pandas as pd\n",
    "path = '/Users/hanxiaodi/PycharmProjects/CCSassistant/excelTempleFile/批量开户测试.xlsx'\n",
    "pd.read_excel(path)"
   ]
  },
  {
   "cell_type": "code",
   "execution_count": 3,
   "outputs": [
    {
     "data": {
      "text/plain": "      0         1                     2            3       4  \\\n0  客户名称      客户类型                 客户证件号        客户手机号  客户配偶名称   \n1    张三  PERSONAL  61387487384475375487  13709876543      李四   \n2   殷宏伟  PERSONAL    42020219770909191X  13709876543     NaN   \n3   彭思思  PERSONAL    420281198507024268  13709876543     NaN   \n\n                   5            6  \n0            客户配偶证件号      客户配偶手机号  \n1  73847875847385734  13812345678  \n2                NaN          NaN  \n3                NaN          NaN  ",
      "text/html": "<div>\n<style scoped>\n    .dataframe tbody tr th:only-of-type {\n        vertical-align: middle;\n    }\n\n    .dataframe tbody tr th {\n        vertical-align: top;\n    }\n\n    .dataframe thead th {\n        text-align: right;\n    }\n</style>\n<table border=\"1\" class=\"dataframe\">\n  <thead>\n    <tr style=\"text-align: right;\">\n      <th></th>\n      <th>0</th>\n      <th>1</th>\n      <th>2</th>\n      <th>3</th>\n      <th>4</th>\n      <th>5</th>\n      <th>6</th>\n    </tr>\n  </thead>\n  <tbody>\n    <tr>\n      <th>0</th>\n      <td>客户名称</td>\n      <td>客户类型</td>\n      <td>客户证件号</td>\n      <td>客户手机号</td>\n      <td>客户配偶名称</td>\n      <td>客户配偶证件号</td>\n      <td>客户配偶手机号</td>\n    </tr>\n    <tr>\n      <th>1</th>\n      <td>张三</td>\n      <td>PERSONAL</td>\n      <td>61387487384475375487</td>\n      <td>13709876543</td>\n      <td>李四</td>\n      <td>73847875847385734</td>\n      <td>13812345678</td>\n    </tr>\n    <tr>\n      <th>2</th>\n      <td>殷宏伟</td>\n      <td>PERSONAL</td>\n      <td>42020219770909191X</td>\n      <td>13709876543</td>\n      <td>NaN</td>\n      <td>NaN</td>\n      <td>NaN</td>\n    </tr>\n    <tr>\n      <th>3</th>\n      <td>彭思思</td>\n      <td>PERSONAL</td>\n      <td>420281198507024268</td>\n      <td>13709876543</td>\n      <td>NaN</td>\n      <td>NaN</td>\n      <td>NaN</td>\n    </tr>\n  </tbody>\n</table>\n</div>"
     },
     "execution_count": 3,
     "metadata": {},
     "output_type": "execute_result"
    }
   ],
   "source": [
    "path = '/Users/hanxiaodi/PycharmProjects/CCSassistant/excelTempleFile/批量开户测试.xlsx'\n",
    "pd.read_excel(path,header=None)\n"
   ],
   "metadata": {
    "collapsed": false,
    "pycharm": {
     "name": "#%%\n"
    }
   }
  },
  {
   "cell_type": "code",
   "execution_count": 21,
   "outputs": [
    {
     "name": "stdout",
     "output_type": "stream",
     "text": [
      "7\n",
      "['成功']\n",
      "dict_keys(['开户结果'])\n",
      "  客户名称     客户类型                 客户证件号        客户手机号 客户配偶名称            客户配偶证件号  \\\n",
      "0   张三  COMPANY  61387487384475375487  13709876543     李四  73847875847385734   \n",
      "\n",
      "       客户配偶手机号 开户结果  \n",
      "0  13812345678   成功  \n"
     ]
    }
   ],
   "source": [
    "path = '/Users/hanxiaodi/PycharmProjects/CCSassistant/excelTempleFile/批量开户测试.xlsx'\n",
    "df=pd.read_excel(path,header=None)\n",
    "colNums= df.shape[1]\n",
    "print(colNums)\n",
    "d1 = pd.read_excel(path)\n",
    "data ={'开户结果': ['成功'],}\n",
    "print(data['开户结果'])\n",
    "print(data.keys())\n",
    "d =pd.DataFrame(data=data['开户结果'],columns=data.keys())\n",
    "sumdata =pd.concat([d1, d], axis=1)\n",
    "print(sumdata)\n",
    "sumdata.to_excel(path)"
   ],
   "metadata": {
    "collapsed": false,
    "pycharm": {
     "name": "#%%\n"
    }
   }
  }
 ],
 "metadata": {
  "kernelspec": {
   "display_name": "Python 3",
   "language": "python",
   "name": "python3"
  },
  "language_info": {
   "codemirror_mode": {
    "name": "ipython",
    "version": 2
   },
   "file_extension": ".py",
   "mimetype": "text/x-python",
   "name": "python",
   "nbconvert_exporter": "python",
   "pygments_lexer": "ipython2",
   "version": "2.7.6"
  }
 },
 "nbformat": 4,
 "nbformat_minor": 0
}